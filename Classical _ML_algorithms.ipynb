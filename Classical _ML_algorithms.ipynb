{
  "cells": [
    {
      "cell_type": "code",
      "execution_count": 1,
      "metadata": {
        "id": "xJzhLFZFpLCS"
      },
      "outputs": [],
      "source": [
        "import numpy as np\n",
        "import struct\n",
        "from array import array\n",
        "import random\n",
        "import matplotlib.pyplot as plt\n",
        "from os.path import join\n",
        "from sklearn.tree import DecisionTreeClassifier\n",
        "from sklearn.metrics import accuracy_score, classification_report\n",
        "import time\n",
        "from sklearn.naive_bayes import GaussianNB\n",
        "from sklearn.naive_bayes import MultinomialNB\n",
        "from sklearn.neighbors import KNeighborsClassifier\n",
        "from sklearn.svm import LinearSVC\n",
        "from sklearn.svm import SVC\n",
        "from sklearn.ensemble import BaggingClassifier\n",
        "from sklearn.ensemble import RandomForestClassifier\n",
        "from sklearn.ensemble import AdaBoostClassifier\n",
        "from xgboost import XGBClassifier"
      ]
    },
    {
      "cell_type": "code",
      "execution_count": 2,
      "metadata": {
        "id": "jpL0D2IRHM-n"
      },
      "outputs": [],
      "source": [
        "class MnistDataloader(object):\n",
        "    def __init__(self, training_images_filepath, training_labels_filepath,\n",
        "                 test_images_filepath, test_labels_filepath):\n",
        "        self.training_images_filepath = training_images_filepath\n",
        "        self.training_labels_filepath = training_labels_filepath\n",
        "        self.test_images_filepath = test_images_filepath\n",
        "        self.test_labels_filepath = test_labels_filepath\n",
        "\n",
        "    def read_images_labels(self, images_filepath, labels_filepath):\n",
        "        # Read labels\n",
        "        with open(labels_filepath, 'rb') as file:\n",
        "            magic, size = struct.unpack(\">II\", file.read(8))\n",
        "            if magic != 2049:\n",
        "                raise ValueError(f'Magic number mismatch, expected 2049, got {magic}')\n",
        "            labels = np.frombuffer(file.read(), dtype=np.uint8)\n",
        "\n",
        "        # Read images\n",
        "        with open(images_filepath, 'rb') as file:\n",
        "            magic, size, rows, cols = struct.unpack(\">IIII\", file.read(16))\n",
        "            if magic != 2051:\n",
        "                raise ValueError(f'Magic number mismatch, expected 2051, got {magic}')\n",
        "            image_data = np.frombuffer(file.read(), dtype=np.uint8)\n",
        "            images = image_data.reshape(size, rows, cols)  # (num, 28, 28)\n",
        "\n",
        "        return images, labels\n",
        "\n",
        "    def load_data(self):\n",
        "        x_train, y_train = self.read_images_labels(self.training_images_filepath, self.training_labels_filepath)\n",
        "        x_test, y_test   = self.read_images_labels(self.test_images_filepath, self.test_labels_filepath)\n",
        "        return (x_train, y_train), (x_test, y_test)\n"
      ]
    },
    {
      "cell_type": "code",
      "execution_count": 3,
      "metadata": {
        "id": "HjCoV2a460Xz"
      },
      "outputs": [],
      "source": [
        "# Set file paths based on added MNIST Datasets\n",
        "\n",
        "input_path = '/content/drive/MyDrive/MNIST/'\n",
        "training_images_filepath = join(input_path, 'train-images-idx3-ubyte/train-images-idx3-ubyte')\n",
        "training_labels_filepath = join(input_path, 'train-labels-idx1-ubyte/train-labels-idx1-ubyte')\n",
        "test_images_filepath = join(input_path, 't10k-images-idx3-ubyte/t10k-images-idx3-ubyte')\n",
        "test_labels_filepath = join(input_path, 't10k-labels-idx1-ubyte/t10k-labels-idx1-ubyte')\n",
        "\n",
        "#\n",
        "# dictionaries to record performance metrics\n",
        "#\n",
        "acc = {}\n",
        "train_time = {}\n",
        "pred_time = {}\n",
        "\n",
        "#\n",
        "# Load MINST dataset\n",
        "#\n",
        "mnist_dataloader = MnistDataloader(training_images_filepath, training_labels_filepath, test_images_filepath, test_labels_filepath)\n",
        "(x_train, y_train), (x_test, y_test) = mnist_dataloader.load_data()\n"
      ]
    },
    {
      "cell_type": "code",
      "execution_count": 4,
      "metadata": {
        "colab": {
          "base_uri": "https://localhost:8080/"
        },
        "id": "WCriL0n-FoMy",
        "outputId": "ed93e9bc-60b3-4950-d856-0390f6b74b9f"
      },
      "outputs": [
        {
          "name": "stdout",
          "output_type": "stream",
          "text": [
            "(60000, 784) (60000,)\n",
            "(10000, 784) (10000,)\n"
          ]
        }
      ],
      "source": [
        "# preprocessing data\n",
        "X_train = x_train.reshape(x_train.shape[0], -1)\n",
        "X_test  = x_test.reshape(x_test.shape[0], -1)\n",
        "\n",
        "print(X_train.shape, y_train.shape)  # (60000, 28, 28) (60000,)\n",
        "print(X_test.shape, y_test.shape)\n",
        "\n"
      ]
    },
    {
      "cell_type": "code",
      "execution_count": null,
      "metadata": {
        "id": "SjU806sgIqYe"
      },
      "outputs": [],
      "source": [
        "# --- Decision Tree Algorithm ---\n",
        "clf = DecisionTreeClassifier(max_depth=20, random_state=42)\n",
        "\n",
        "start_train = time.time()\n",
        "clf.fit(X_train, y_train)\n",
        "end_train = time.time()\n",
        "\n",
        "start_pred = time.time()\n",
        "y_pred = clf.predict(X_test)\n",
        "end_pred = time.time()\n",
        "\n",
        "acc['DT'] = accuracy_score(y_test, y_pred)\n",
        "train_time['DT'] = end_train - start_train\n",
        "pred_time['DT'] = end_pred - start_pred\n",
        "\n",
        "print(\"Accuracy:\", accuracy_score(y_test, y_pred))\n",
        "print(classification_report(y_test,y_pred))\n",
        "print(f\"Training time: {end_train - start_train:.2f} seconds\")\n",
        "print(f\"Prediction time: {end_pred - start_pred:.2f} seconds\")\n"
      ]
    },
    {
      "cell_type": "code",
      "execution_count": null,
      "metadata": {
        "id": "7mgNvaEOONte"
      },
      "outputs": [],
      "source": [
        "# --- Naive bayes Gaussian ---\n",
        "nb = GaussianNB()\n",
        "\n",
        "start_train = time.time()\n",
        "nb.fit(X_train, y_train)\n",
        "end_train = time.time()\n",
        "\n",
        "start_pred = time.time()\n",
        "y_pred = nb.predict(X_test)\n",
        "end_pred = time.time()\n",
        "\n",
        "acc['NBG'] = accuracy_score(y_test, y_pred)\n",
        "train_time['NBG'] = end_train - start_train\n",
        "pred_time['NBG'] = end_pred - start_pred\n",
        "\n",
        "print(\"Naive Bayes Gaussian Accuracy:\", accuracy_score(y_test, y_pred))\n",
        "print(\"\\nClassification Report:\\n\", classification_report(y_test, y_pred))\n",
        "print(f\"Training time: {end_train - start_train:.2f} seconds\")\n",
        "print(f\"Prediction time: {end_pred - start_pred:.2f} seconds\")"
      ]
    },
    {
      "cell_type": "code",
      "execution_count": null,
      "metadata": {
        "id": "RTK5VownegCq"
      },
      "outputs": [],
      "source": [
        "# --- Naive bayes multinomial ---\n",
        "mnb = MultinomialNB()\n",
        "\n",
        "start_train = time.time()\n",
        "mnb.fit(X_train, y_train)\n",
        "end_train = time.time()\n",
        "\n",
        "start_pred = time.time()\n",
        "y_pred = mnb.predict(X_test)\n",
        "end_pred = time.time()\n",
        "\n",
        "acc['NBM'] = accuracy_score(y_test, y_pred)\n",
        "train_time['NBM'] = end_train - start_train\n",
        "pred_time['NBM'] = end_pred - start_pred\n",
        "\n",
        "print(\"Naive Bayes Multinominal Accuracy:\", accuracy_score(y_test, y_pred))\n",
        "print(\"\\nClassification Report:\\n\", classification_report(y_test, y_pred))\n",
        "print(f\"Training time: {end_train - start_train:.2f} seconds\")\n",
        "print(f\"Prediction time: {end_pred - start_pred:.2f} seconds\")"
      ]
    },
    {
      "cell_type": "code",
      "execution_count": null,
      "metadata": {
        "id": "tS5WqQ53Vk1E"
      },
      "outputs": [],
      "source": [
        "# --- KNN algorithm ---\n",
        "knn = KNeighborsClassifier(n_neighbors=3)\n",
        "\n",
        "start_train = time.time()\n",
        "knn.fit(X_train, y_train)\n",
        "end_train = time.time()\n",
        "\n",
        "start_pred = time.time()\n",
        "y_pred = knn.predict(X_test)\n",
        "end_pred = time.time()\n",
        "\n",
        "acc['KNN'] = accuracy_score(y_test, y_pred)\n",
        "train_time['KNN'] = end_train - start_train\n",
        "pred_time['KNN'] = end_pred - start_pred\n",
        "\n",
        "print(\"KNN Accuracy:\", accuracy_score(y_test, y_pred))\n",
        "print(\"\\nClassification Report:\\n\", classification_report(y_test, y_pred))\n",
        "print(f\"Training time: {end_train - start_train:.2f} seconds\")\n",
        "print(f\"Prediction time: {end_pred - start_pred:.2f} seconds\")"
      ]
    },
    {
      "cell_type": "code",
      "execution_count": null,
      "metadata": {
        "id": "aRlPLU9RcrBQ"
      },
      "outputs": [],
      "source": [
        "# --- SVM classifier linear kernel ---\n",
        "svm = LinearSVC(class_weight='balanced', max_iter=10000, random_state=42)\n",
        "\n",
        "start_train = time.time()\n",
        "svm.fit(X_train, y_train)\n",
        "end_train = time.time()\n",
        "\n",
        "start_pred = time.time()\n",
        "y_pred = svm.predict(X_test)\n",
        "end_pred = time.time()\n",
        "\n",
        "acc['SVM'] = accuracy_score(y_test, y_pred)\n",
        "train_time['SVM'] = end_train - start_train\n",
        "pred_time['SVM'] = end_pred - start_pred\n",
        "\n",
        "print(\"SVM Accuracy:\", accuracy_score(y_test, y_pred))\n",
        "print(\"\\nClassification Report:\\n\", classification_report(y_test, y_pred))\n",
        "print(f\"Training time: {end_train - start_train:.2f} seconds\")\n",
        "print(f\"Prediction time: {end_pred - start_pred:.2f} seconds\")"
      ]
    },
    {
      "cell_type": "code",
      "execution_count": null,
      "metadata": {
        "id": "a23Wa1Bij07m"
      },
      "outputs": [],
      "source": [
        "# --- SVM classifier rbf kernel ---\n",
        "svm = SVC(kernel='rbf', class_weight='balanced', random_state=42)\n",
        "\n",
        "\n",
        "start_train = time.time()\n",
        "svm.fit(X_train, y_train)\n",
        "end_train = time.time()\n",
        "\n",
        "start_pred = time.time()\n",
        "y_pred = svm.predict(X_test)\n",
        "end_pred = time.time()\n",
        "\n",
        "acc['SVM_RBF'] = accuracy_score(y_test, y_pred)\n",
        "train_time['SVM_RBF'] = end_train - start_train\n",
        "pred_time['SVM_RBF'] = end_pred - start_pred\n",
        "\n",
        "print(\"SVM Accuracy:\", accuracy_score(y_test, y_pred))\n",
        "print(\"\\nClassification Report:\\n\", classification_report(y_test, y_pred))\n",
        "print(f\"Training time: {end_train - start_train:.2f} seconds\")\n",
        "print(f\"Prediction time: {end_pred - start_pred:.2f} seconds\")"
      ]
    },
    {
      "cell_type": "code",
      "execution_count": null,
      "metadata": {
        "id": "E-WDWImHo_D7"
      },
      "outputs": [],
      "source": [
        "# --- bagging with decision tree as base estimator ---\n",
        "base_tree = DecisionTreeClassifier(max_depth=20, random_state=42)\n",
        "bagging = BaggingClassifier(\n",
        "    estimator = base_tree,\n",
        "    n_estimators = 10,     # number of trees\n",
        "    max_samples = 0.8,     # each tree trained on 80% of training data (bootstrap)\n",
        "    max_features = 1.0,    # use all features\n",
        "    bootstrap = True,\n",
        "    random_state=42\n",
        ")\n",
        "\n",
        "start_train = time.time()\n",
        "bagging.fit(X_train, y_train)\n",
        "end_train = time.time()\n",
        "\n",
        "start_pred = time.time()\n",
        "y_pred = bagging.predict(X_test)\n",
        "end_pred = time.time()\n",
        "\n",
        "acc['BAG'] = accuracy_score(y_test, y_pred)\n",
        "train_time['BAG'] = end_train - start_train\n",
        "pred_time['BAG'] = end_pred - start_pred\n",
        "\n",
        "print(\"Bagging with Decision Trees Accuracy:\", accuracy_score(y_test, y_pred))\n",
        "print(\"\\nClassification Report:\\n\", classification_report(y_test, y_pred))\n",
        "print(f\"Training time: {end_train - start_train:.2f} seconds\")\n",
        "print(f\"Prediction time: {end_pred - start_pred:.2f} seconds\")\n"
      ]
    },
    {
      "cell_type": "code",
      "execution_count": null,
      "metadata": {
        "id": "3_Yd_h9hwlWJ"
      },
      "outputs": [],
      "source": [
        "# --- Random Forest ---\n",
        "rf = RandomForestClassifier(\n",
        "    n_estimators=100,      # number of trees\n",
        "    max_depth=20,          # limit depth (prevent overfitting)\n",
        "    max_features=\"sqrt\",\n",
        "    random_state=42\n",
        ")\n",
        "\n",
        "start_train = time.time()\n",
        "rf.fit(X_train, y_train)\n",
        "end_train = time.time()\n",
        "\n",
        "start_pred = time.time()\n",
        "y_pred = rf.predict(X_test)\n",
        "end_pred = time.time()\n",
        "\n",
        "acc['RF'] = accuracy_score(y_test, y_pred)\n",
        "train_time['RF'] = end_train - start_train\n",
        "pred_time['RF'] = end_pred - start_pred\n",
        "\n",
        "print(\"Random Forest Accuracy:\", accuracy_score(y_test, y_pred))\n",
        "print(\"\\nClassification Report:\\n\", classification_report(y_test, y_pred))\n",
        "print(f\"Training time: {end_train - start_train:.2f} seconds\")\n",
        "print(f\"Prediction time: {end_pred - start_pred:.2f} seconds\")"
      ]
    },
    {
      "cell_type": "code",
      "execution_count": null,
      "metadata": {
        "id": "ACaipoY5yuQe"
      },
      "outputs": [],
      "source": [
        "base_tree = DecisionTreeClassifier(max_depth=1, random_state=42)\n",
        "\n",
        "# --- AdaBoost Classifier ---\n",
        "adaboost = AdaBoostClassifier(\n",
        "    estimator=base_tree,     # base learner (weak classifier)\n",
        "    n_estimators=50,         # number of weak learners\n",
        "    learning_rate=1.0,       # weight applied to each classifier\n",
        "    random_state=42\n",
        ")\n",
        "\n",
        "start_train = time.time()\n",
        "adaboost.fit(X_train, y_train)\n",
        "end_train = time.time()\n",
        "\n",
        "start_pred = time.time()\n",
        "y_pred = adaboost.predict(X_test)\n",
        "end_pred = time.time()\n",
        "\n",
        "acc['AB'] = accuracy_score(y_test, y_pred)\n",
        "train_time['AB'] = end_train - start_train\n",
        "pred_time['AB'] = end_pred - start_pred\n",
        "\n",
        "print(\"AdaBoost Accuracy:\", accuracy_score(y_test, y_pred))\n",
        "print(\"\\nClassification Report:\\n\", classification_report(y_test, y_pred))\n",
        "print(f\"Training time: {end_train - start_train:.2f} seconds\")\n",
        "print(f\"Prediction time: {end_pred - start_pred:.2f} seconds\")"
      ]
    },
    {
      "cell_type": "code",
      "execution_count": null,
      "metadata": {
        "id": "xu1R4-bszESQ"
      },
      "outputs": [],
      "source": [
        "# --- XGBoost Classifier ---\n",
        "xgb_model = XGBClassifier(\n",
        "    n_estimators=100,      # number of boosting rounds (trees)\n",
        "    max_depth=6,           # depth of each tree\n",
        "    learning_rate=0.1,\n",
        "    subsample=0.8,\n",
        "    colsample_bytree=0.8,\n",
        "    objective=\"multi:softmax\",\n",
        "    num_class=10,\n",
        "    tree_method=\"hist\",\n",
        "    random_state=42\n",
        ")\n",
        "\n",
        "start_train = time.time()\n",
        "xgb_model.fit(X_train, y_train)\n",
        "end_train = time.time()\n",
        "\n",
        "start_pred = time.time()\n",
        "y_pred = xgb_model.predict(X_test)\n",
        "end_pred = time.time()\n",
        "\n",
        "acc['XG'] = accuracy_score(y_test, y_pred)\n",
        "train_time['XG'] = end_train - start_train\n",
        "pred_time['XG'] = end_pred - start_pred\n",
        "\n",
        "print(\"XGBoost Accuracy:\", accuracy_score(y_test, y_pred))\n",
        "print(\"\\nClassification Report:\\n\", classification_report(y_test, y_pred))\n",
        "print(f\"Training time: {end_train - start_train:.2f} seconds\")\n",
        "print(f\"Prediction time: {end_pred - start_pred:.2f} seconds\")"
      ]
    },
    {
      "cell_type": "code",
      "execution_count": null,
      "metadata": {
        "id": "sSWqil9uQQI0"
      },
      "outputs": [],
      "source": [
        "print(acc)\n",
        "print(train_time)\n",
        "print(pred_time)"
      ]
    },
    {
      "cell_type": "code",
      "execution_count": null,
      "metadata": {
        "id": "0k4FtMZYa-B1"
      },
      "outputs": [],
      "source": [
        "models = list(acc.keys())\n",
        "accuracies = list(acc.values())\n",
        "\n",
        "plt.figure(figsize=(12,6))\n",
        "plt.plot(models, accuracies, marker=\"o\", linestyle=\"-\", color=\"b\")\n",
        "\n",
        "plt.ylabel(\"Accuracy\")\n",
        "plt.title(\"Model Accuracies on MNIST (Line Graph)\")\n",
        "\n",
        "for i, a in enumerate(accuracies):\n",
        "    plt.text(i, a + 0.005, f\"{a:.3f}\", ha='center', fontsize=9)\n",
        "\n",
        "plt.grid(True)\n",
        "plt.show()"
      ]
    },
    {
      "cell_type": "code",
      "execution_count": null,
      "metadata": {
        "id": "Hix-cbY8b7As"
      },
      "outputs": [],
      "source": [
        "models1 = list(train_time.keys())\n",
        "train = list(train_time.values())\n",
        "\n",
        "plt.figure(figsize=(12,6))\n",
        "plt.plot(models1, train, marker=\"o\", linestyle=\"-\", color=\"b\")\n",
        "\n",
        "plt.ylabel(\"Training Time\")\n",
        "plt.title(\"Model training time on MNIST (Line Graph)\")\n",
        "\n",
        "for i, a in enumerate(train):\n",
        "    plt.text(i, a + 0.005, f\"{a:.3f}\", ha='center', fontsize=9)\n",
        "\n",
        "plt.grid(True)\n",
        "plt.show()"
      ]
    },
    {
      "cell_type": "code",
      "execution_count": null,
      "metadata": {
        "id": "-KygcSQkf4v8"
      },
      "outputs": [],
      "source": [
        "models2 = list(pred_time.keys())\n",
        "predict = list(pred_time.values())\n",
        "\n",
        "plt.figure(figsize=(12,6))\n",
        "plt.plot(models2, predict, marker=\"o\", linestyle=\"-\", color=\"b\")\n",
        "\n",
        "plt.ylabel(\"Accuracy\")\n",
        "plt.title(\"Model prediction time on MNIST (Line Graph)\")\n",
        "\n",
        "for i, a in enumerate(predict):\n",
        "    plt.text(i, a + 0.005, f\"{a:.3f}\", ha='center', fontsize=9)\n",
        "\n",
        "plt.grid(True)\n",
        "plt.show()"
      ]
    }
  ],
  "metadata": {
    "accelerator": "GPU",
    "colab": {
      "gpuType": "T4",
      "provenance": []
    },
    "kernelspec": {
      "display_name": "Python 3",
      "name": "python3"
    },
    "language_info": {
      "name": "python"
    }
  },
  "nbformat": 4,
  "nbformat_minor": 0
}
